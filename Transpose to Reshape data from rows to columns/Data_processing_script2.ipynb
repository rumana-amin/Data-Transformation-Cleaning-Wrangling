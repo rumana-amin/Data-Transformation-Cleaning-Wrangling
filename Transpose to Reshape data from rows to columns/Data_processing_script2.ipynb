{
 "cells": [
  {
   "cell_type": "code",
   "execution_count": 1,
   "metadata": {},
   "outputs": [],
   "source": [
    "import pandas as pd\n",
    "import os\n",
    "import openpyxl"
   ]
  },
  {
   "cell_type": "code",
   "execution_count": null,
   "metadata": {},
   "outputs": [],
   "source": [
    "# Read Excel file into DataFrame\n",
    "df = pd.read_excel('03-12.xlsx', header=None)\n",
    "df.head(15)"
   ]
  },
  {
   "cell_type": "code",
   "execution_count": null,
   "metadata": {},
   "outputs": [],
   "source": [
    "# Pivot the DataFrame\n",
    "df_pivoted = df.pivot(columns=df.columns[0], values=df.columns[1])\n",
    "df_pivoted.head()"
   ]
  },
  {
   "cell_type": "code",
   "execution_count": null,
   "metadata": {},
   "outputs": [],
   "source": [
    "# Rename the columns\n",
    "df_pivoted.columns = ['Address', 'City', 'Country', 'Name', 'Postal_code', 'Province', 'Telephone']\n",
    "\n",
    "df_pivoted.head(17)"
   ]
  },
  {
   "cell_type": "code",
   "execution_count": null,
   "metadata": {},
   "outputs": [],
   "source": [
    "df_pivoted.tail(10)"
   ]
  },
  {
   "cell_type": "code",
   "execution_count": null,
   "metadata": {},
   "outputs": [],
   "source": [
    "# Drop rows with all NaN values\n",
    "df_pivoted.dropna(axis=0, how='all', inplace=True)\n",
    "df_pivoted.tail(10)"
   ]
  },
  {
   "cell_type": "code",
   "execution_count": null,
   "metadata": {},
   "outputs": [],
   "source": [
    "# To see the number of rows and columns of the df\n",
    "df_pivoted.shape"
   ]
  },
  {
   "cell_type": "code",
   "execution_count": null,
   "metadata": {},
   "outputs": [],
   "source": [
    "# back Filled the df replacing NaN Valus up to 6 rows\n",
    "df_filled= df_pivoted.fillna(method=\"bfill\", limit=6) # row index 0, 7, 13, 20, 27 \n",
    "df_filled.tail(10)"
   ]
  },
  {
   "cell_type": "code",
   "execution_count": null,
   "metadata": {},
   "outputs": [],
   "source": [
    "# Containing only the rows with the specified index positions.\n",
    "\"\"\"selected_rows = df_filled.iloc[[0, 7, 13, 20, 27]]\n",
    "selected_rows\"\"\""
   ]
  },
  {
   "cell_type": "code",
   "execution_count": null,
   "metadata": {},
   "outputs": [],
   "source": [
    "# Slicing with a step of 7.\n",
    "df_selected_rows= df_filled.iloc[::7]\n",
    "df_selected_rows.tail()"
   ]
  },
  {
   "cell_type": "code",
   "execution_count": null,
   "metadata": {},
   "outputs": [],
   "source": [
    "# Remove '\\n' characters and extra spaces from the 'Name' and 'Address' columns\n",
    "df_selected_rows.loc[:,'Name'] = df_selected_rows['Name'].str.strip()\n",
    "df_selected_rows.loc[:,'Address'] = df_selected_rows['Address'].str.strip()\n",
    "df_selected_rows.tail()"
   ]
  },
  {
   "cell_type": "code",
   "execution_count": null,
   "metadata": {},
   "outputs": [],
   "source": [
    "df_selected_rows.dtypes"
   ]
  },
  {
   "cell_type": "code",
   "execution_count": null,
   "metadata": {},
   "outputs": [],
   "source": [
    "# Define the desired column order\n",
    "desired_columns = ['Name', 'Address', 'City', 'Province', 'Postal_code', 'Country', 'Telephone']\n",
    "\n",
    "# Reorder the columns in the DataFrame\n",
    "df_selected_rows = df_selected_rows.reindex(columns=desired_columns)\n",
    "\n",
    "# Display the DataFrame with the reordered columns\n",
    "df_selected_rows.head()"
   ]
  },
  {
   "cell_type": "code",
   "execution_count": null,
   "metadata": {},
   "outputs": [],
   "source": [
    "# Reset the row index\n",
    "df_selected_rows.reset_index(drop=True, inplace=True)\n",
    "\n",
    "# Display the DataFrame with the reordered columns\n",
    "df_selected_rows.head()"
   ]
  },
  {
   "cell_type": "code",
   "execution_count": null,
   "metadata": {},
   "outputs": [],
   "source": [
    "df_selected_rows.shape"
   ]
  },
  {
   "cell_type": "code",
   "execution_count": null,
   "metadata": {},
   "outputs": [],
   "source": [
    "# Importing the second df \n",
    "url = 'https://countrycode.org/'\n",
    "tables = pd.read_html(url)\n",
    "print(len(tables))"
   ]
  },
  {
   "cell_type": "code",
   "execution_count": null,
   "metadata": {},
   "outputs": [],
   "source": [
    "df_code = tables[0]\n",
    "df_code.head()"
   ]
  },
  {
   "cell_type": "code",
   "execution_count": 41,
   "metadata": {},
   "outputs": [],
   "source": [
    "# Convert the case of the merge keys\n",
    "df_code[\"COUNTRY\"] = df_code[\"COUNTRY\"].str.lower()"
   ]
  },
  {
   "cell_type": "code",
   "execution_count": null,
   "metadata": {},
   "outputs": [],
   "source": [
    "# Merged the two data frame\n",
    "df_merged = pd.merge(df_selected_rows, df_code , left_on=\"Country\", right_on=\"COUNTRY\", how=\"left\")\n",
    "df_merged.tail()"
   ]
  },
  {
   "cell_type": "code",
   "execution_count": null,
   "metadata": {},
   "outputs": [],
   "source": [
    "# Drop the 'COUNTRY' column and the last four columns from the merged DataFrame\n",
    "df_merged.drop(columns=['COUNTRY'] + list(df_merged.columns[-4:]), axis=1, inplace=True)\n",
    "df_merged.head()\n"
   ]
  },
  {
   "cell_type": "code",
   "execution_count": null,
   "metadata": {},
   "outputs": [],
   "source": [
    "# Define the desired column order\n",
    "desired_columns_final = ['Name', 'Address', 'City', 'Province', 'Postal_code', 'Country', 'COUNTRY CODE', 'Telephone']\n",
    "\n",
    "# Reorder the columns in the DataFrame\n",
    "df_final = df_merged.reindex(columns=desired_columns_final)\n",
    "\n",
    "# Display the DataFrame with the reordered columns\n",
    "df_final.head()"
   ]
  },
  {
   "cell_type": "code",
   "execution_count": null,
   "metadata": {},
   "outputs": [],
   "source": [
    "# Merge two columns into one column\n",
    "# Concatenate 'COUNTRY CODE' and 'Telephone' columns into 'Telephone_code' column\n",
    "df_merged['Telephone_code'] = df_merged['COUNTRY CODE'].astype(str) + '-' + df_merged['Telephone'].astype(str)\n",
    "\n",
    "# Drop the 'COUNTRY CODE' and 'Telephone' columns\n",
    "df_merged.drop(columns=['COUNTRY CODE', 'Telephone'], inplace=True)\n",
    "\n",
    "df_merged.head()"
   ]
  },
  {
   "cell_type": "code",
   "execution_count": null,
   "metadata": {},
   "outputs": [],
   "source": [
    "# save to CSV without the index\n",
    "df_merged.to_csv('output_data.csv', index = False)"
   ]
  }
 ],
 "metadata": {
  "kernelspec": {
   "display_name": "Python 3",
   "language": "python",
   "name": "python3"
  },
  "language_info": {
   "codemirror_mode": {
    "name": "ipython",
    "version": 3
   },
   "file_extension": ".py",
   "mimetype": "text/x-python",
   "name": "python",
   "nbconvert_exporter": "python",
   "pygments_lexer": "ipython3",
   "version": "3.11.3"
  }
 },
 "nbformat": 4,
 "nbformat_minor": 2
}
