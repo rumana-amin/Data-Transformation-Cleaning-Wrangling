{
 "cells": [
  {
   "cell_type": "code",
   "execution_count": null,
   "metadata": {},
   "outputs": [],
   "source": [
    "import pandas as pd\n",
    "\n",
    "# Read the Excel file without headers\n",
    "df = pd.read_excel('03-12.xlsx', header=None)\n",
    "df.head()"
   ]
  },
  {
   "cell_type": "code",
   "execution_count": null,
   "metadata": {},
   "outputs": [],
   "source": [
    "# Number of headers (each block contains 7 headers)\n",
    "n = 7\n",
    "\n",
    "# Create an empty DataFrame for the final output\n",
    "df_transposed = pd.DataFrame()\n",
    "\n",
    "# Loop through the DataFrame in chunks of 7 rows to create rows in the final DataFrame\n",
    "for i in range(0, len(df), n):\n",
    "    # Select a chunk of 7 rows\n",
    "    chunk = df.iloc[i:i+n]\n",
    "    \n",
    "    # Transpose the chunk so that column 1 becomes the headers and column 2 becomes values\n",
    "    chunk_transposed = chunk.set_index(0).T\n",
    "    \n",
    "    # Append the transposed chunk to the final DataFrame\n",
    "    df_transposed = pd.concat([df_transposed, chunk_transposed], ignore_index=True)"
   ]
  },
  {
   "cell_type": "code",
   "execution_count": null,
   "metadata": {},
   "outputs": [],
   "source": [
    "\n",
    "# Display the DataFrame\n",
    "df_transposed.head()"
   ]
  },
  {
   "cell_type": "code",
   "execution_count": null,
   "metadata": {},
   "outputs": [],
   "source": [
    "df_transposed.columns"
   ]
  },
  {
   "cell_type": "code",
   "execution_count": null,
   "metadata": {},
   "outputs": [],
   "source": [
    "# Importing the second df \n",
    "url = 'https://countrycode.org/'\n",
    "tables = pd.read_html(url)\n",
    "print(len(tables))"
   ]
  },
  {
   "cell_type": "code",
   "execution_count": null,
   "metadata": {},
   "outputs": [],
   "source": [
    "df_code = tables[0]\n",
    "df_code.head()"
   ]
  },
  {
   "cell_type": "code",
   "execution_count": null,
   "metadata": {},
   "outputs": [],
   "source": [
    "# Convert the case of the merge keys\n",
    "df_transposed[\"COUNTRY: \"] = df_transposed[\"COUNTRY: \"].str.title()\n",
    "\n",
    "# Merged the two data frames\n",
    "df_merged = pd.merge(df_transposed, df_code , left_on=\"COUNTRY: \", right_on=\"COUNTRY\", how=\"left\")\n",
    "df_merged.tail()"
   ]
  },
  {
   "cell_type": "code",
   "execution_count": null,
   "metadata": {},
   "outputs": [],
   "source": [
    "# Drop the 'COUNTRY' column and the last four columns from the merged DataFrame\n",
    "df_merged.drop(columns=['COUNTRY: '] + list(df_merged.columns[-4:]), axis=1, inplace=True)\n",
    "df_merged.head()"
   ]
  },
  {
   "cell_type": "code",
   "execution_count": null,
   "metadata": {},
   "outputs": [],
   "source": [
    "df_merged.columns"
   ]
  },
  {
   "cell_type": "code",
   "execution_count": null,
   "metadata": {},
   "outputs": [],
   "source": [
    "\n",
    "# Rename the columns based on your known headers\n",
    "df_merged.columns = ['Name', 'Address', 'City', 'Province',  'Postal_code', 'Telephone', 'Country', 'Country Code']\n",
    "df_merged.head()"
   ]
  },
  {
   "cell_type": "code",
   "execution_count": null,
   "metadata": {},
   "outputs": [],
   "source": [
    "# Merge two columns into one column\n",
    "# Concatenate 'COUNTRY CODE' and 'Telephone' columns into 'Telephone_code' column\n",
    "df_merged['Telephone_code'] = df_merged['Country Code'].astype(str) + '-' + df_merged['Telephone'].astype(str)\n",
    "\n",
    "# Drop the 'COUNTRY CODE' and 'Telephone' columns\n",
    "df_merged.drop(columns=['Country Code', 'Telephone'], inplace=True)\n",
    "\n",
    "df_merged.head()"
   ]
  },
  {
   "cell_type": "code",
   "execution_count": null,
   "metadata": {},
   "outputs": [],
   "source": [
    "df_merged.tail()"
   ]
  },
  {
   "cell_type": "code",
   "execution_count": null,
   "metadata": {},
   "outputs": [],
   "source": [
    "# Delete the rows where all the values are null\n",
    "df_final = df_merged.dropna()"
   ]
  },
  {
   "cell_type": "code",
   "execution_count": null,
   "metadata": {},
   "outputs": [],
   "source": [
    "# save to CSV without the index\n",
    "df_final.to_csv('output_data.csv', index = False)"
   ]
  }
 ],
 "metadata": {
  "kernelspec": {
   "display_name": "Python 3",
   "language": "python",
   "name": "python3"
  },
  "language_info": {
   "codemirror_mode": {
    "name": "ipython",
    "version": 3
   },
   "file_extension": ".py",
   "mimetype": "text/x-python",
   "name": "python",
   "nbconvert_exporter": "python",
   "pygments_lexer": "ipython3",
   "version": "3.11.3"
  }
 },
 "nbformat": 4,
 "nbformat_minor": 2
}
