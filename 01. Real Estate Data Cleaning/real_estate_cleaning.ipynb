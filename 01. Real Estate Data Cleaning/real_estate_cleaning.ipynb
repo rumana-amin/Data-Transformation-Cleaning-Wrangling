{
 "cells": [
  {
   "cell_type": "markdown",
   "metadata": {},
   "source": [
    "# About Dataset  \n",
    "This dataset was scraped from a Bangladeshi real estate website. It is raw and quite messy, containing 20 columns and 811 rows.  \n",
    "Some of the necessary tasks include EDA, cleaning and extracting data, and changing data types etc. "
   ]
  },
  {
   "cell_type": "markdown",
   "metadata": {},
   "source": [
    "## Import Libraries"
   ]
  },
  {
   "cell_type": "code",
   "execution_count": 1,
   "metadata": {},
   "outputs": [],
   "source": [
    "import pandas as pd\n",
    "import numpy as np\n",
    "import re"
   ]
  },
  {
   "cell_type": "markdown",
   "metadata": {},
   "source": [
    "## Load the data from csv to Data frame"
   ]
  },
  {
   "cell_type": "code",
   "execution_count": 2,
   "metadata": {},
   "outputs": [],
   "source": [
    "original_data = pd.read_csv(\"real_estate_raw_data.csv\")"
   ]
  },
  {
   "cell_type": "code",
   "execution_count": 3,
   "metadata": {},
   "outputs": [],
   "source": [
    "# Copy the dataset before making any changes\n",
    "df = original_data.copy()"
   ]
  },
  {
   "cell_type": "markdown",
   "metadata": {},
   "source": [
    "## Exploratory Data Analysis (EDA)"
   ]
  },
  {
   "cell_type": "code",
   "execution_count": null,
   "metadata": {},
   "outputs": [],
   "source": [
    "# To see the sample data from randomly\n",
    "pd.set_option('display.max_columns', None)\n",
    "#pd.set_option('display.max_rows', None)\n",
    "\n",
    "df.sample(3)"
   ]
  },
  {
   "cell_type": "code",
   "execution_count": null,
   "metadata": {},
   "outputs": [],
   "source": [
    "df.info()"
   ]
  },
  {
   "cell_type": "code",
   "execution_count": null,
   "metadata": {},
   "outputs": [],
   "source": [
    "df.describe()"
   ]
  },
  {
   "cell_type": "markdown",
   "metadata": {},
   "source": [
    "### Check Duplicate Values"
   ]
  },
  {
   "cell_type": "code",
   "execution_count": null,
   "metadata": {},
   "outputs": [],
   "source": [
    "# To check for duplicate data\n",
    "df.duplicated() == 1"
   ]
  },
  {
   "cell_type": "code",
   "execution_count": null,
   "metadata": {},
   "outputs": [],
   "source": [
    "# To Check the url column for duplicacy\n",
    "df[df['url'].duplicated() == 1]"
   ]
  },
  {
   "cell_type": "markdown",
   "metadata": {},
   "source": [
    "### Check Null Values"
   ]
  },
  {
   "cell_type": "code",
   "execution_count": null,
   "metadata": {},
   "outputs": [],
   "source": [
    "# Check null values in any column\n",
    "df.isnull().any()"
   ]
  },
  {
   "cell_type": "code",
   "execution_count": null,
   "metadata": {},
   "outputs": [],
   "source": [
    "# counts the number of non-Null entries in each column for rows where the 'property size' column is null.\n",
    "df[df['property size'].isna()].count()"
   ]
  },
  {
   "cell_type": "code",
   "execution_count": null,
   "metadata": {},
   "outputs": [],
   "source": [
    "# Count the number of null values in each column\n",
    "null_counts = df.isna().sum()\n",
    "\n",
    "print(null_counts)"
   ]
  },
  {
   "cell_type": "markdown",
   "metadata": {},
   "source": [
    "### Delete where major columns values are null"
   ]
  },
  {
   "cell_type": "code",
   "execution_count": 12,
   "metadata": {},
   "outputs": [],
   "source": [
    "# Delete rows only where the values of columns of price, property size, parking and year built are null. If any of the column is not null, dont delete it.\n",
    "df.dropna(subset=['price', 'property size', 'parking', 'year built'], how='all', inplace=True)"
   ]
  },
  {
   "cell_type": "markdown",
   "metadata": {},
   "source": [
    "## Extracting & Cleaning"
   ]
  },
  {
   "cell_type": "markdown",
   "metadata": {},
   "source": [
    "### 1. Property Type"
   ]
  },
  {
   "cell_type": "code",
   "execution_count": null,
   "metadata": {},
   "outputs": [],
   "source": [
    "# Get the unique values of a column\n",
    "df['property type'].unique()"
   ]
  },
  {
   "cell_type": "code",
   "execution_count": 14,
   "metadata": {},
   "outputs": [],
   "source": [
    "# Function to clean Property type\n",
    "def definite_property_type(type):\n",
    "    if pd.isna(type):\n",
    "        return np.nan\n",
    "   \n",
    "    if 'Residential' in type:\n",
    "        return \"Residential Apartment\"\n",
    "    else:\n",
    "        return \"Commercial Space\"\n",
    "\n",
    "# Apply function to the 'property size' column\n",
    "df['property type'] = df['property type'].apply(definite_property_type)\n"
   ]
  },
  {
   "cell_type": "code",
   "execution_count": null,
   "metadata": {},
   "outputs": [],
   "source": [
    "# Display unique cleaned property sizes\n",
    "df['property type'].unique()\n",
    "df.sample(2)"
   ]
  },
  {
   "cell_type": "markdown",
   "metadata": {},
   "source": [
    "### 2. Property Size"
   ]
  },
  {
   "cell_type": "code",
   "execution_count": null,
   "metadata": {},
   "outputs": [],
   "source": [
    "df['property size'].unique()"
   ]
  },
  {
   "cell_type": "code",
   "execution_count": 17,
   "metadata": {},
   "outputs": [],
   "source": [
    "# Function to extract Property Size\n",
    "def clean_size(size):\n",
    "    if pd.isna(size):  # To handle null values\n",
    "        return np.nan\n",
    "    match = re.search(r'(\\d+)', size)\n",
    "    if match:\n",
    "        return int(match.group(1))\n",
    "    return np.nan       # NaN values are of type float\n",
    "\n",
    "# Apply function to the 'property size' column\n",
    "df['property size'] = df['property size'].apply(clean_size)"
   ]
  },
  {
   "cell_type": "code",
   "execution_count": null,
   "metadata": {},
   "outputs": [],
   "source": [
    "# Rename the column\n",
    "df = df.rename(columns = {\"property size\": \"property_size(Sq Ft)\"})\n",
    "df['property_size(Sq Ft)']"
   ]
  },
  {
   "cell_type": "markdown",
   "metadata": {},
   "source": [
    "### 3. Parking"
   ]
  },
  {
   "cell_type": "code",
   "execution_count": null,
   "metadata": {},
   "outputs": [],
   "source": [
    "df['parking'].unique()"
   ]
  },
  {
   "cell_type": "code",
   "execution_count": 20,
   "metadata": {},
   "outputs": [],
   "source": [
    "# Funtion to extract number of parking space\n",
    "def num_of_parking(parking):\n",
    "\n",
    "    if isinstance(parking, str):\n",
    "        parking = parking.replace(' car parking (Per floor)', '').replace(' car parking', '').replace(' Car Parking', '').replace('\\xa0', '')\n",
    "        return parking.strip()\n",
    "          \n",
    "    return parking\n",
    "        \n",
    "# Apply function to the 'parking' column\n",
    "df['parking'] = df['parking'].apply(num_of_parking)"
   ]
  },
  {
   "cell_type": "code",
   "execution_count": null,
   "metadata": {},
   "outputs": [],
   "source": [
    "df['parking']"
   ]
  },
  {
   "cell_type": "markdown",
   "metadata": {},
   "source": [
    "###  4. Lift"
   ]
  },
  {
   "cell_type": "code",
   "execution_count": null,
   "metadata": {},
   "outputs": [],
   "source": [
    "df['lift'].unique()"
   ]
  },
  {
   "cell_type": "code",
   "execution_count": 23,
   "metadata": {},
   "outputs": [],
   "source": [
    "# Function to extract lift number\n",
    "def lift_number(lift_num):\n",
    "    if pd.isna(lift_num):  # To handle null values\n",
    "        return np.nan\n",
    "    match = re.search(r'(\\d+)', lift_num)\n",
    "    if match:\n",
    "        return int(match.group(1))\n",
    "    return np.nan       # NaN values are of type float\n",
    "\n",
    "# Apply function to the 'lift' column\n",
    "df['lift'] = df['lift'].apply(lift_number)"
   ]
  },
  {
   "cell_type": "code",
   "execution_count": null,
   "metadata": {},
   "outputs": [],
   "source": [
    "df['lift'].unique()\n",
    "df['lift']"
   ]
  },
  {
   "cell_type": "markdown",
   "metadata": {},
   "source": [
    "Function to clean lift\n",
    "def lift_num(lift):\n",
    "    if isinstance(lift, str):\n",
    "        if ' Available' in lift:\n",
    "            return lift.split(' Available')[0]\n",
    "        elif ' available' in lift:\n",
    "            return lift.split(' available')[0]\n",
    "          \n",
    "    return lift\n",
    "\n",
    "Apply function to the 'lift' column\n",
    "df['lift'] = df['lift'].apply(lift_num)\n"
   ]
  },
  {
   "cell_type": "markdown",
   "metadata": {},
   "source": [
    "### 5. Price"
   ]
  },
  {
   "cell_type": "code",
   "execution_count": null,
   "metadata": {},
   "outputs": [],
   "source": [
    "df['price'].unique()"
   ]
  },
  {
   "cell_type": "code",
   "execution_count": 26,
   "metadata": {},
   "outputs": [],
   "source": [
    "# Cleaning price\n",
    "df['cleaned_price'] = df['price'].str.split('(').str[0]\n",
    "df['cleaned_price'] = df['cleaned_price'].str.split('/').str[0].str.strip('BDT ').str.replace(',','').str.strip()"
   ]
  },
  {
   "cell_type": "code",
   "execution_count": null,
   "metadata": {},
   "outputs": [],
   "source": [
    "df['cleaned_price'].unique()"
   ]
  },
  {
   "cell_type": "code",
   "execution_count": 28,
   "metadata": {},
   "outputs": [],
   "source": [
    "# Function to unify measure unit\n",
    "def unify_price(price):\n",
    "    if pd.isna(price):\n",
    "        return np.nan\n",
    "    \n",
    "    if 'Lac' in price or 'Lakh' in price:\n",
    "        match = re.search(r'(\\d+\\.?\\d+)', price)     #re.search(r'(\\d+\\.?\\d*) Lac', price)\n",
    "        return float(match.group(1)) * 1e5           ## 1 lakh = 100,000 = 10^5\n",
    "    \n",
    "    elif 'Cr' in price or 'Cr.' in price:\n",
    "        match = re.search(r'(\\d+\\.\\d+)', price) or re.search(r'(\\d+)', price) \n",
    "        if match:\n",
    "            return float(match.group(1)) * 1e7       ## 1 crore = 10 million = 10^7\n",
    "    \n",
    "    # Remove non-numeric characters except for digits\n",
    "    cleaned_price = re.sub(r'[^\\d]', '', price)\n",
    "    if cleaned_price == '':\n",
    "        return np.nan\n",
    "    else:\n",
    "        return cleaned_price\n",
    "    \n",
    "# Apply function to price column\n",
    "df['price(BDT)'] = df['cleaned_price'].apply(unify_price)\n"
   ]
  },
  {
   "cell_type": "code",
   "execution_count": null,
   "metadata": {},
   "outputs": [],
   "source": [
    "# Set display format to show two decimal places\n",
    "#pd.set_option('display.float_format', '{:.2f}'.format)\n",
    "\n",
    "df[['price','price(BDT)']]\n",
    "#df['price(BDT)']"
   ]
  },
  {
   "cell_type": "markdown",
   "metadata": {},
   "source": [
    "### 6. Service Charge"
   ]
  },
  {
   "cell_type": "code",
   "execution_count": null,
   "metadata": {},
   "outputs": [],
   "source": [
    "df['service_charge'].unique()"
   ]
  },
  {
   "cell_type": "code",
   "execution_count": 31,
   "metadata": {},
   "outputs": [],
   "source": [
    "# Function to extract service charge\n",
    "def extract_value(text):\n",
    "    if isinstance(text, str):\n",
    "        match = re.search(r'BDT\\s*([\\d,]+)/-', text)\n",
    "        if match:\n",
    "            return match.group(1).replace(',', '')\n",
    "    return None\n",
    "\n",
    "# Apply function to 'service_charge' column\n",
    "df['service_charge(BDT)'] = df['service_charge'].apply(extract_value)"
   ]
  },
  {
   "cell_type": "code",
   "execution_count": null,
   "metadata": {},
   "outputs": [],
   "source": [
    "pd.set_option('display.max_rows', None)\n",
    "df['service_charge(BDT)']"
   ]
  },
  {
   "cell_type": "markdown",
   "metadata": {},
   "source": [
    "### 7. Garage Size"
   ]
  },
  {
   "cell_type": "code",
   "execution_count": null,
   "metadata": {},
   "outputs": [],
   "source": [
    "df['garage size'].unique()"
   ]
  },
  {
   "cell_type": "code",
   "execution_count": 34,
   "metadata": {},
   "outputs": [],
   "source": [
    "# Function to extracrt garage size\n",
    "def extract_garage(garage):\n",
    "    if pd.isna(garage):\n",
    "        return np.nan\n",
    "    match = re.search(r'(\\d+)', garage)\n",
    "    if match:\n",
    "        return match.group(1)\n",
    "    return np.nan\n",
    "\n",
    "# Apply function to garage column\n",
    "df['garage(Sq Ft)'] = df['garage size'].apply(extract_garage)\n"
   ]
  },
  {
   "cell_type": "code",
   "execution_count": null,
   "metadata": {},
   "outputs": [],
   "source": [
    "df['garage(Sq Ft)'] = df['garage(Sq Ft)'].astype(str)\n",
    "df['garage(Sq Ft)'].unique()"
   ]
  },
  {
   "cell_type": "markdown",
   "metadata": {},
   "source": [
    "### 8. Bedrooms"
   ]
  },
  {
   "cell_type": "code",
   "execution_count": null,
   "metadata": {},
   "outputs": [],
   "source": [
    "df['bedrooms'].unique()"
   ]
  },
  {
   "cell_type": "code",
   "execution_count": 37,
   "metadata": {},
   "outputs": [],
   "source": [
    "# Function to extract number of bedrooms\n",
    "def extract_num_of_bedroom(bedroom):\n",
    "    if pd.isna(bedroom):\n",
    "        return np.nan\n",
    "    \n",
    "    match = re.search(r'(\\d+)', bedroom)\n",
    "    if match:\n",
    "        return match.group(1)\n",
    "    return np.nan\n",
    "\n",
    "# Apply function to extract number of bedrooms\n",
    "df['bedrooms'] = df['bedrooms'].apply(extract_num_of_bedroom)\n"
   ]
  },
  {
   "cell_type": "code",
   "execution_count": null,
   "metadata": {},
   "outputs": [],
   "source": [
    "df['bedrooms'].unique()"
   ]
  },
  {
   "cell_type": "markdown",
   "metadata": {},
   "source": [
    "### 9. Bathroom"
   ]
  },
  {
   "cell_type": "code",
   "execution_count": null,
   "metadata": {},
   "outputs": [],
   "source": [
    "df['bathrooms'].unique()"
   ]
  },
  {
   "cell_type": "code",
   "execution_count": 40,
   "metadata": {},
   "outputs": [],
   "source": [
    "# Function to extract number of bathroom\n",
    "def extract_num_of_bath(bath):\n",
    "    if pd.isna(bath):\n",
    "        return np.nan\n",
    "    match =re.search(r'(\\d+)', bath)\n",
    "    if match:\n",
    "        return match.group(1)\n",
    "    return np.nan \n",
    "\n",
    "# Apply fx\n",
    "df['bathrooms'] = df['bathrooms'].apply(extract_num_of_bath)"
   ]
  },
  {
   "cell_type": "code",
   "execution_count": null,
   "metadata": {},
   "outputs": [],
   "source": [
    "df['bathrooms']"
   ]
  },
  {
   "cell_type": "markdown",
   "metadata": {},
   "source": [
    "### 10.Front Road Size"
   ]
  },
  {
   "cell_type": "code",
   "execution_count": null,
   "metadata": {},
   "outputs": [],
   "source": [
    "df['front road size'].unique()"
   ]
  },
  {
   "cell_type": "code",
   "execution_count": 43,
   "metadata": {},
   "outputs": [],
   "source": [
    "# Function to extract front road size\n",
    "def extract_front_road(road_size):\n",
    "    if pd.isna(road_size):\n",
    "        return np.nan\n",
    "    match = re.search(r'(\\d+)', road_size)\n",
    "    if match:\n",
    "        return match.group(1)\n",
    "    return np.nan\n",
    "\n",
    "# Apply function to fron road size column\n",
    "df['front_road(Sq Ft)'] = df['front road size'].apply(extract_front_road)"
   ]
  },
  {
   "cell_type": "code",
   "execution_count": null,
   "metadata": {},
   "outputs": [],
   "source": [
    "df['front_road(Sq Ft)']"
   ]
  },
  {
   "cell_type": "markdown",
   "metadata": {},
   "source": [
    "### 11. Common Area\t"
   ]
  },
  {
   "cell_type": "code",
   "execution_count": null,
   "metadata": {},
   "outputs": [],
   "source": [
    "df['common area'].unique()"
   ]
  },
  {
   "cell_type": "code",
   "execution_count": 46,
   "metadata": {},
   "outputs": [],
   "source": [
    "# Function to extract common area\n",
    "def extract_common_area(common_area):\n",
    "    if pd.isna(common_area):\n",
    "        return np.nan \n",
    "    match = re.search(r'(\\d+)', common_area)\n",
    "    if match:\n",
    "        return match.group(1)\n",
    "    return np.nan\n",
    "\n",
    "# Apply function\n",
    "df['common_area(Sq Ft)'] = df['common area'].apply(extract_common_area) "
   ]
  },
  {
   "cell_type": "code",
   "execution_count": null,
   "metadata": {},
   "outputs": [],
   "source": [
    "df['common_area(Sq Ft)']"
   ]
  },
  {
   "cell_type": "markdown",
   "metadata": {},
   "source": [
    "### 12. City Area"
   ]
  },
  {
   "cell_type": "code",
   "execution_count": null,
   "metadata": {},
   "outputs": [],
   "source": [
    "df['location']"
   ]
  },
  {
   "cell_type": "code",
   "execution_count": null,
   "metadata": {},
   "outputs": [],
   "source": [
    "# Extract city area from location column \n",
    "df['city_area'] = df['location'].str.split(',').str[0]\n",
    "df['city_area']"
   ]
  },
  {
   "cell_type": "markdown",
   "metadata": {},
   "source": [
    "### 13. District"
   ]
  },
  {
   "cell_type": "code",
   "execution_count": null,
   "metadata": {},
   "outputs": [],
   "source": [
    "# Function to create distirct from location\n",
    "def create_district(district):\n",
    "\n",
    "    if 'Dhaka' in district or 'dhaka' in district:\n",
    "        return 'Dhaka'\n",
    "    else:\n",
    "        return None\n",
    "    \n",
    "# Apply fx to create district\n",
    "df['district'] = df['location'].apply(create_district)\n",
    "\n",
    "df['district']\n"
   ]
  },
  {
   "cell_type": "markdown",
   "metadata": {},
   "source": [
    "### 14. Zip Code"
   ]
  },
  {
   "cell_type": "code",
   "execution_count": 51,
   "metadata": {},
   "outputs": [],
   "source": [
    "# Function to extract zip code\n",
    "def extract_zip_code(zip):\n",
    "    if isinstance(zip, str):\n",
    "        \n",
    "        match = re.search(r'(\\d+)', zip)\n",
    "        if match:\n",
    "            return match.group(1)\n",
    "    return None\n",
    "\n",
    "# Applly function to extract zip code from location column\n",
    "df['zip_code'] = df['location'].apply(extract_zip_code)"
   ]
  },
  {
   "cell_type": "code",
   "execution_count": null,
   "metadata": {},
   "outputs": [],
   "source": [
    "df['zip_code']"
   ]
  },
  {
   "cell_type": "markdown",
   "metadata": {},
   "source": []
  },
  {
   "cell_type": "markdown",
   "metadata": {},
   "source": [
    "### 15. Interior"
   ]
  },
  {
   "cell_type": "code",
   "execution_count": null,
   "metadata": {},
   "outputs": [],
   "source": [
    "df['interior'].unique()"
   ]
  },
  {
   "cell_type": "code",
   "execution_count": 54,
   "metadata": {},
   "outputs": [],
   "source": [
    "# Function to clean interior\n",
    "def clean_interior(interior):\n",
    "    if not isinstance(interior, str):\n",
    "        return None\n",
    "    \n",
    "    if 'Un' in interior or 'Non' in interior:\n",
    "        return 'Un-Furnished'\n",
    "    elif 'Semi' in interior or 'semi' in interior:\n",
    "        return 'Semi-Furnished'\n",
    "    else:\n",
    "        return 'Fully-Furnised'\n",
    "    \n",
    "# Apply fx to interior column\n",
    "df['interior_style'] = df['interior'].apply(clean_interior)"
   ]
  },
  {
   "cell_type": "code",
   "execution_count": null,
   "metadata": {},
   "outputs": [],
   "source": [
    "# Check after cleaning\n",
    "df[['interior', 'interior_style']]\n",
    "df['interior_style'].unique()"
   ]
  },
  {
   "cell_type": "markdown",
   "metadata": {},
   "source": [
    "## Output After Cleaning"
   ]
  },
  {
   "cell_type": "code",
   "execution_count": null,
   "metadata": {},
   "outputs": [],
   "source": [
    "df.shape"
   ]
  },
  {
   "cell_type": "code",
   "execution_count": null,
   "metadata": {},
   "outputs": [],
   "source": [
    "df.sample(3)"
   ]
  },
  {
   "cell_type": "code",
   "execution_count": 58,
   "metadata": {},
   "outputs": [],
   "source": [
    "# Delete Columns produced by product of Cleaning: 'price','cleaned_price', 'garage size', 'front road size','common area', 'location', 'interior'\n",
    "df.drop(['price','cleaned_price', 'garage size', 'front road size','common area', 'location', 'interior', 'service_charge'], axis = 1, inplace= True)"
   ]
  },
  {
   "cell_type": "code",
   "execution_count": null,
   "metadata": {},
   "outputs": [],
   "source": [
    "# Data Frame rows number x columns number\n",
    "df.shape"
   ]
  },
  {
   "cell_type": "code",
   "execution_count": null,
   "metadata": {},
   "outputs": [],
   "source": [
    "# Dataframe columns\n",
    "df.columns"
   ]
  },
  {
   "cell_type": "code",
   "execution_count": null,
   "metadata": {},
   "outputs": [],
   "source": [
    "df.info()"
   ]
  },
  {
   "cell_type": "code",
   "execution_count": 62,
   "metadata": {},
   "outputs": [],
   "source": [
    "# Rearrange columns of DataFrame\n",
    "new_order = [\n",
    "    'url', 'title', 'property type', 'property_size(Sq Ft)', 'price(BDT)', 'service_charge(BDT)',\n",
    "    'bedrooms', 'bathrooms', 'parking', 'lift', 'floor', 'interior_style',\n",
    "    'year built', 'building registration type', 'preferred tennant',\n",
    "    'garage(Sq Ft)', 'front_road(Sq Ft)', 'common_area(Sq Ft)',\n",
    "    'city_area', 'district', 'zip_code', 'country']\n",
    "\n",
    "df_reordered = df[new_order]\n"
   ]
  },
  {
   "cell_type": "code",
   "execution_count": null,
   "metadata": {},
   "outputs": [],
   "source": [
    "df_reordered.head(3)"
   ]
  },
  {
   "cell_type": "code",
   "execution_count": 64,
   "metadata": {},
   "outputs": [],
   "source": [
    "# Output is in csv file\n",
    "df_reordered.to_csv('output_final.csv', index=False)"
   ]
  }
 ],
 "metadata": {
  "kernelspec": {
   "display_name": "Python 3",
   "language": "python",
   "name": "python3"
  },
  "language_info": {
   "codemirror_mode": {
    "name": "ipython",
    "version": 3
   },
   "file_extension": ".py",
   "mimetype": "text/x-python",
   "name": "python",
   "nbconvert_exporter": "python",
   "pygments_lexer": "ipython3",
   "version": "3.11.3"
  }
 },
 "nbformat": 4,
 "nbformat_minor": 2
}
